{
 "cells": [
  {
   "cell_type": "code",
   "execution_count": 1,
   "id": "01c92f01",
   "metadata": {},
   "outputs": [],
   "source": [
    "import numpy as np"
   ]
  },
  {
   "cell_type": "markdown",
   "id": "b4fdea32-1110-41f2-8559-355914514cea",
   "metadata": {},
   "source": [
    "# Mutable argument"
   ]
  },
  {
   "cell_type": "code",
   "execution_count": 2,
   "id": "68df3c5a",
   "metadata": {},
   "outputs": [],
   "source": [
    "def f(a):\n",
    "    b = a\n",
    "    return b"
   ]
  },
  {
   "cell_type": "code",
   "execution_count": 6,
   "id": "af1a2928",
   "metadata": {
    "scrolled": true
   },
   "outputs": [
    {
     "name": "stdout",
     "output_type": "stream",
     "text": [
      "c = [0.]\n",
      "c after a[0] changed = [10.]\n"
     ]
    }
   ],
   "source": [
    "a = np.zeros(1)\n",
    "c = f(a)\n",
    "print(f\"c = {c}\")\n",
    "# ==> [0.]\n",
    "a[0] = 10\n",
    "print(f\"c after a[0] changed = {c}\")"
   ]
  },
  {
   "cell_type": "markdown",
   "id": "ee0d3baa-d9f3-47f7-a478-a77186e7c301",
   "metadata": {},
   "source": [
    "Same with a numpy function which is actually a view of the ndarray"
   ]
  },
  {
   "cell_type": "code",
   "execution_count": 7,
   "id": "8dd8e09e",
   "metadata": {},
   "outputs": [],
   "source": [
    "def f1(a):\n",
    "    b = np.flip(a)\n",
    "    return b"
   ]
  },
  {
   "cell_type": "code",
   "execution_count": 8,
   "id": "c687e371",
   "metadata": {},
   "outputs": [
    {
     "name": "stdout",
     "output_type": "stream",
     "text": [
      "c = [0.]\n",
      "c after a[0] changed = [10.]\n"
     ]
    }
   ],
   "source": [
    "a = np.zeros(1)\n",
    "c = f1(a)\n",
    "print(f\"c = {c}\")\n",
    "# ==> [0.]\n",
    "a[0] = 10\n",
    "print(f\"c after a[0] changed = {c}\")"
   ]
  },
  {
   "cell_type": "markdown",
   "id": "5f63d6a6-2e9f-47c4-b42d-2295bd5837ef",
   "metadata": {},
   "source": [
    "# Mutable default argument"
   ]
  },
  {
   "cell_type": "code",
   "execution_count": 9,
   "id": "25f29192-c14e-468c-8c7b-fdd20ac78e0b",
   "metadata": {},
   "outputs": [],
   "source": [
    "class A:\n",
    "    def __init__(self, val=0):\n",
    "       self.val = val"
   ]
  },
  {
   "cell_type": "markdown",
   "id": "f9152996-31de-413a-a76d-0e595fc55c77",
   "metadata": {},
   "source": [
    "Create a class with a ndarray, a class A, a list and tuple (immutable) attributes.\n",
    "\n",
    "Here, constructor has 3 over 4 mutable default arguments "
   ]
  },
  {
   "cell_type": "code",
   "execution_count": null,
   "id": "aec16aa0-75a2-40b7-8b5e-96047eda691c",
   "metadata": {},
   "outputs": [],
   "source": [
    "class MyClass:\n",
    "   def __init__(self, array = np.zeros(1), a: A = A(), l = [], t=(0,)):\n",
    "        self.array = array\n",
    "        self.a = a\n",
    "        self.l = l\n",
    "        self.t = t"
   ]
  },
  {
   "cell_type": "markdown",
   "id": "376257e1-f97c-4888-bfd8-fa956d56a826",
   "metadata": {},
   "source": [
    "Create an instance of MyClass (myObj1) "
   ]
  },
  {
   "cell_type": "code",
   "execution_count": null,
   "id": "343c1ada-578d-48b1-8e3f-e7bce50fc073",
   "metadata": {},
   "outputs": [],
   "source": [
    "myObj1 = MyClass()\n",
    "print(\"Object 1\")\n",
    "print(myObj1.__dict__)"
   ]
  },
  {
   "cell_type": "markdown",
   "id": "fb38f607-2a0e-4e8d-9e5e-531d0abf8388",
   "metadata": {},
   "source": [
    "Modify value of instance myObj1 attibutes"
   ]
  },
  {
   "cell_type": "code",
   "execution_count": null,
   "id": "37800ed6-a8b7-4e9c-b14e-797a88ddd024",
   "metadata": {},
   "outputs": [],
   "source": [
    "myObj1.array[0] = 3\n",
    "myObj1.a.val = 4\n",
    "myObj1.l.append(5)\n",
    "myObj1.t = (6, )\n",
    "print(myObj1.array)\n",
    "print(myObj1.a.val)\n",
    "print(myObj1.l)\n",
    "print(myObj1.t)"
   ]
  },
  {
   "cell_type": "markdown",
   "id": "bbb8a076-6acd-4ea7-a6ec-a66b88cd4a2b",
   "metadata": {},
   "source": [
    "Create a new instance of the MyClass: myObj2"
   ]
  },
  {
   "cell_type": "code",
   "execution_count": null,
   "id": "130659ac-78cc-4afb-974f-7c0e7a831aef",
   "metadata": {},
   "outputs": [],
   "source": [
    "print(\"Object 2\")\n",
    "myObj2 = MyClass()\n",
    "print(myObj2.__dict__)\n",
    "print(myObj2.array)\n",
    "print(myObj2.a.val)\n",
    "print(myObj2.l)\n",
    "print(myObj2.t)"
   ]
  },
  {
   "cell_type": "markdown",
   "id": "bde22469-cda9-478b-8959-e35ce11b4cf8",
   "metadata": {},
   "source": [
    "Modify again myObj1"
   ]
  },
  {
   "cell_type": "code",
   "execution_count": null,
   "id": "a03a38ca-f551-47a2-b87a-9fd73bc5da61",
   "metadata": {},
   "outputs": [],
   "source": [
    "myObj1.array[0] = 30\n",
    "myObj1.a.val = 40\n",
    "myObj1.l.append(50)\n",
    "myObj1.t = (60, )"
   ]
  },
  {
   "cell_type": "markdown",
   "id": "4a6e71ae-dd61-4761-8cb5-ff981d63c42b",
   "metadata": {},
   "source": [
    "Print myObj2"
   ]
  },
  {
   "cell_type": "code",
   "execution_count": null,
   "id": "e49f22dc-5098-416e-8b45-dd477a0f01c8",
   "metadata": {},
   "outputs": [],
   "source": [
    "print(\"Object 2\")\n",
    "myObj2 = MyClass()\n",
    "print(myObj2.__dict__)\n",
    "print(myObj2.array)\n",
    "print(myObj2.a.val)\n",
    "print(myObj2.l)\n",
    "print(myObj2.t)"
   ]
  },
  {
   "cell_type": "markdown",
   "id": "5dea91bd-8ff2-4d50-8d57-5bf160c95f02",
   "metadata": {},
   "source": [
    "In Python, when passing a mutable value as a default argument in a function, the default argument is mutated anytime that value is mutated.\n",
    "Here, \"mutable value\" refers to anything such as a set, a list, a dictionnary or even a class instance.\n",
    "\n",
    "Python’s default arguments are evaluated once when the function is defined, not each time the function is called (like it is in say, Ruby). This means that if you use a mutable default argument and mutate it, you will and have mutated that object for all future calls to the function as well.\n",
    "\n",
    "**Do not use mutable default arguments in Python !**"
   ]
  },
  {
   "cell_type": "markdown",
   "id": "3978b5cc-23cf-4e07-b9bc-f752447952ee",
   "metadata": {},
   "source": [
    "Use None as a default and assign the mutable value inside the function."
   ]
  },
  {
   "cell_type": "code",
   "execution_count": null,
   "id": "64e45092-cd07-43bd-ab92-83932c37fbe3",
   "metadata": {},
   "outputs": [],
   "source": [
    "class MyClass:\n",
    "   def __init__(self, array = None):\n",
    "        self.array = array if array else np.zeros(1)"
   ]
  },
  {
   "cell_type": "markdown",
   "id": "b481205a-6aea-4316-b000-180288eab2e6",
   "metadata": {},
   "source": [
    "# Boolean"
   ]
  },
  {
   "cell_type": "code",
   "execution_count": 5,
   "id": "f070dd78-b0cd-4b0f-bf92-cfe7ca7b1998",
   "metadata": {},
   "outputs": [
    {
     "data": {
      "text/plain": [
       "False"
      ]
     },
     "execution_count": 5,
     "metadata": {},
     "output_type": "execute_result"
    }
   ],
   "source": [
    "# Test is True\n",
    "a = 1\n",
    "a is True\n",
    "# > False car ce n'est pas un boolean"
   ]
  },
  {
   "cell_type": "code",
   "execution_count": 6,
   "id": "922c0422-27c6-4a0e-b8ea-fee83f35e6e0",
   "metadata": {},
   "outputs": [
    {
     "data": {
      "text/plain": [
       "True"
      ]
     },
     "execution_count": 6,
     "metadata": {},
     "output_type": "execute_result"
    }
   ],
   "source": [
    "a = bool(1)\n",
    "a is True\n",
    "# > True car c'est un boolean"
   ]
  },
  {
   "cell_type": "code",
   "execution_count": null,
   "id": "996aacbf-baa7-42d5-a6c9-fd825396b65b",
   "metadata": {},
   "outputs": [],
   "source": []
  }
 ],
 "metadata": {
  "kernelspec": {
   "display_name": "Python 3 (ipykernel)",
   "language": "python",
   "name": "python3"
  },
  "language_info": {
   "codemirror_mode": {
    "name": "ipython",
    "version": 3
   },
   "file_extension": ".py",
   "mimetype": "text/x-python",
   "name": "python",
   "nbconvert_exporter": "python",
   "pygments_lexer": "ipython3",
   "version": "3.8.11"
  }
 },
 "nbformat": 4,
 "nbformat_minor": 5
}
