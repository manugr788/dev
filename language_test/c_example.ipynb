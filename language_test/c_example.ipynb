{
 "cells": [
  {
   "cell_type": "code",
   "execution_count": 10,
   "id": "726dbcd3",
   "metadata": {},
   "outputs": [
    {
     "name": "stdout",
     "output_type": "stream",
     "text": [
      "c[0]= 0\n",
      "d = 0\n",
      "c[0]= 10\n",
      "d = 0\n"
     ]
    }
   ],
   "source": [
    "#include <stdio.h>\n",
    "\n",
    "int* f(int *a)\n",
    "{\n",
    "    int *b = a;\n",
    "    return b;\n",
    "}\n",
    "\n",
    "int f2(const int *a)\n",
    "{\n",
    "    int b = a[0];\n",
    "    return b;\n",
    "}\n",
    "\n",
    "int main(int argc, char**argv)\n",
    "{\n",
    "    int a[1] = {0};\n",
    "    int *c = f(a);\n",
    "    int d = f2(a);\n",
    "    printf(\"c[0]= %d\\n\", c[0]);\n",
    "    printf(\"d = %d\\n\", d);\n",
    "    // ==> [0.]\n",
    "    a[0] = 10;\n",
    "    printf(\"c[0]= %d\\n\", c[0]);\n",
    "    printf(\"d = %d\\n\", d);\n",
    "    // ==> [1.]\n",
    "}\n"
   ]
  },
  {
   "cell_type": "code",
   "execution_count": null,
   "id": "d48515de",
   "metadata": {},
   "outputs": [],
   "source": []
  }
 ],
 "metadata": {
  "kernelspec": {
   "display_name": "C",
   "language": "c",
   "name": "c"
  },
  "language_info": {
   "file_extension": ".c",
   "mimetype": "text/plain",
   "name": "c"
  }
 },
 "nbformat": 4,
 "nbformat_minor": 5
}
