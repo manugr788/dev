{
 "cells": [
  {
   "cell_type": "code",
   "execution_count": 3,
   "id": "8576a17c",
   "metadata": {},
   "outputs": [],
   "source": [
    ":dep ndarray"
   ]
  },
  {
   "cell_type": "code",
   "execution_count": 4,
   "id": "8fd55ff0",
   "metadata": {},
   "outputs": [],
   "source": [
    "use ndarray::{Array, Dim};"
   ]
  },
  {
   "cell_type": "code",
   "execution_count": 5,
   "id": "038dc88c",
   "metadata": {},
   "outputs": [],
   "source": [
    "fn f(a: Array<f64, Dim<[usize; 1]>>) -> Array<f64, Dim<[usize; 1]>>{\n",
    "    let b = a;\n",
    "    b\n",
    "}"
   ]
  },
  {
   "cell_type": "code",
   "execution_count": 6,
   "id": "e01577b8",
   "metadata": {},
   "outputs": [
    {
     "ename": "Error",
     "evalue": "borrow of moved value: `a`",
     "output_type": "error",
     "traceback": [
      "\u001b[31m[E0382] Error:\u001b[0m borrow of moved value: `a`",
      "   \u001b[38;5;246m╭\u001b[0m\u001b[38;5;246m─\u001b[0m\u001b[38;5;246m[\u001b[0mcommand_6:1:1\u001b[38;5;246m]\u001b[0m",
      "   \u001b[38;5;246m│\u001b[0m",
      " \u001b[38;5;246m1 │\u001b[0m \u001b[38;5;249ml\u001b[0m\u001b[38;5;249me\u001b[0m\u001b[38;5;249mt\u001b[0m\u001b[38;5;249m \u001b[0m\u001b[38;5;68mm\u001b[0m\u001b[38;5;68mu\u001b[0m\u001b[38;5;68mt\u001b[0m\u001b[38;5;68m \u001b[0m\u001b[38;5;68ma\u001b[0m\u001b[38;5;249m:\u001b[0m\u001b[38;5;249m \u001b[0m\u001b[38;5;249mA\u001b[0m\u001b[38;5;249mr\u001b[0m\u001b[38;5;249mr\u001b[0m\u001b[38;5;249ma\u001b[0m\u001b[38;5;249my\u001b[0m\u001b[38;5;249m<\u001b[0m\u001b[38;5;249mf\u001b[0m\u001b[38;5;249m6\u001b[0m\u001b[38;5;249m4\u001b[0m\u001b[38;5;249m,\u001b[0m\u001b[38;5;249m \u001b[0m\u001b[38;5;249m_\u001b[0m\u001b[38;5;249m>\u001b[0m\u001b[38;5;249m=\u001b[0m\u001b[38;5;249m \u001b[0m\u001b[38;5;249mA\u001b[0m\u001b[38;5;249mr\u001b[0m\u001b[38;5;249mr\u001b[0m\u001b[38;5;249ma\u001b[0m\u001b[38;5;249my\u001b[0m\u001b[38;5;249m:\u001b[0m\u001b[38;5;249m:\u001b[0m\u001b[38;5;249m<\u001b[0m\u001b[38;5;249mf\u001b[0m\u001b[38;5;249m6\u001b[0m\u001b[38;5;249m4\u001b[0m\u001b[38;5;249m,\u001b[0m\u001b[38;5;249m \u001b[0m\u001b[38;5;249m_\u001b[0m\u001b[38;5;249m>\u001b[0m\u001b[38;5;249m:\u001b[0m\u001b[38;5;249m:\u001b[0m\u001b[38;5;249mz\u001b[0m\u001b[38;5;249me\u001b[0m\u001b[38;5;249mr\u001b[0m\u001b[38;5;249mo\u001b[0m\u001b[38;5;249ms\u001b[0m\u001b[38;5;249m(\u001b[0m\u001b[38;5;249m1\u001b[0m\u001b[38;5;249m)\u001b[0m\u001b[38;5;249m;\u001b[0m",
      " \u001b[38;5;240m  │\u001b[0m     \u001b[38;5;68m─\u001b[0m\u001b[38;5;68m─\u001b[0m\u001b[38;5;68m┬\u001b[0m\u001b[38;5;68m─\u001b[0m\u001b[38;5;68m─\u001b[0m  ",
      " \u001b[38;5;240m  │\u001b[0m       \u001b[38;5;68m╰\u001b[0m\u001b[38;5;68m─\u001b[0m\u001b[38;5;68m─\u001b[0m\u001b[38;5;68m─\u001b[0m\u001b[38;5;68m─\u001b[0m move occurs because `a` has type `ArrayBase<OwnedRepr<f64>, Dim<[usize; 1]>>`, which does not implement the `Copy` trait",
      " \u001b[38;5;246m2 │\u001b[0m \u001b[38;5;249ml\u001b[0m\u001b[38;5;249me\u001b[0m\u001b[38;5;249mt\u001b[0m\u001b[38;5;249m \u001b[0m\u001b[38;5;249mc\u001b[0m\u001b[38;5;249m \u001b[0m\u001b[38;5;249m=\u001b[0m\u001b[38;5;249m \u001b[0m\u001b[38;5;249mf\u001b[0m\u001b[38;5;249m(\u001b[0m\u001b[38;5;54ma\u001b[0m\u001b[38;5;249m)\u001b[0m\u001b[38;5;249m;\u001b[0m",
      " \u001b[38;5;240m  │\u001b[0m           \u001b[38;5;54m┬\u001b[0m\u001b[38;5;37m│\u001b[0m ",
      " \u001b[38;5;240m  │\u001b[0m           \u001b[38;5;54m╰\u001b[0m\u001b[38;5;54m─\u001b[0m\u001b[38;5;54m─\u001b[0m value moved here",
      " \u001b[38;5;240m  │\u001b[0m            \u001b[38;5;37m│\u001b[0m ",
      " \u001b[38;5;240m  │\u001b[0m            \u001b[38;5;37m╰\u001b[0m\u001b[38;5;37m─\u001b[0m help: consider cloning the value if the performance cost is acceptable: `.clone()`",
      " \u001b[38;5;240m  │\u001b[0m ",
      " \u001b[38;5;246m4 │\u001b[0m \u001b[38;5;100ma\u001b[0m\u001b[38;5;249m[\u001b[0m\u001b[38;5;249m0\u001b[0m\u001b[38;5;249m]\u001b[0m\u001b[38;5;249m \u001b[0m\u001b[38;5;249m=\u001b[0m\u001b[38;5;249m \u001b[0m\u001b[38;5;249m1\u001b[0m\u001b[38;5;249m0\u001b[0m\u001b[38;5;249m.\u001b[0m\u001b[38;5;249m;\u001b[0m",
      " \u001b[38;5;240m  │\u001b[0m \u001b[38;5;100m┬\u001b[0m  ",
      " \u001b[38;5;240m  │\u001b[0m \u001b[38;5;100m╰\u001b[0m\u001b[38;5;100m─\u001b[0m\u001b[38;5;100m─\u001b[0m value borrowed here after move",
      "\u001b[38;5;246m───╯\u001b[0m"
     ]
    }
   ],
   "source": [
    "let mut a: Array<f64, _>= Array::<f64, _>::zeros(1);\n",
    "let c = f(a);\n",
    "println!(\"{c}\");\n",
    "a[0] = 10.;\n",
    "println!(\"{c}\");\n"
   ]
  },
  {
   "cell_type": "code",
   "execution_count": 7,
   "id": "f3a4be82",
   "metadata": {},
   "outputs": [
    {
     "name": "stdout",
     "output_type": "stream",
     "text": [
      "[0]\n",
      "[0]\n"
     ]
    }
   ],
   "source": [
    "let mut a: Array<f64, _>= Array::<f64, _>::zeros(1);\n",
    "let c = f(a.clone());\n",
    "println!(\"{c}\");\n",
    "a[0] = 10.;\n",
    "println!(\"{c}\");"
   ]
  },
  {
   "cell_type": "markdown",
   "id": "53929ec0-7ddd-4d38-a7e9-66b0d5020279",
   "metadata": {},
   "source": [
    "# Reference & borrowing"
   ]
  },
  {
   "cell_type": "markdown",
   "id": "eb22433a-5098-4aef-b444-c819f7944529",
   "metadata": {},
   "source": [
    "To not clone variable a and be able to use a after the call of function f we use reference (&)"
   ]
  },
  {
   "cell_type": "code",
   "execution_count": 16,
   "id": "cf1d57c9-4ef9-4d27-98b0-c9a28505e662",
   "metadata": {},
   "outputs": [],
   "source": [
    "fn f2(a: &Array<f64, Dim<[usize; 1]>>) -> usize{\n",
    "    a.len()\n",
    "}"
   ]
  },
  {
   "cell_type": "code",
   "execution_count": 19,
   "id": "dc16a5b8-f0b0-442f-8b40-a6913123ee18",
   "metadata": {},
   "outputs": [
    {
     "name": "stdout",
     "output_type": "stream",
     "text": [
      "[10]\n"
     ]
    }
   ],
   "source": [
    "let mut a: Array<f64, _>= Array::<f64, _>::zeros(1);\n",
    "let size = f2(&a);\n",
    "a[0] = 10.;  // a exists\n",
    "println!(\"{a}\");"
   ]
  },
  {
   "cell_type": "markdown",
   "id": "d2da7006-f179-47ca-8f75-35a42503f8ab",
   "metadata": {},
   "source": [
    "The &a syntax lets us create a reference that refers to the value of a but does not own it. Because it does not own it, the value it points to will not be dropped when the reference stops being used. We call the action of creating a reference borrowing"
   ]
  },
  {
   "cell_type": "markdown",
   "id": "4e9b5ca5-c819-4eb9-a1c1-e1a296019b7d",
   "metadata": {},
   "source": [
    "# Mutable reference"
   ]
  },
  {
   "cell_type": "markdown",
   "id": "e737a144-7349-429d-b172-6c9b0c102e25",
   "metadata": {},
   "source": [
    "If we want to change a value within the function"
   ]
  },
  {
   "cell_type": "code",
   "execution_count": 42,
   "id": "ed370a35-9f50-4ffd-ac73-f934220ab0e2",
   "metadata": {},
   "outputs": [],
   "source": [
    "fn f3(a: &mut Array<f64, Dim<[usize; 1]>>) -> (){\n",
    "    a[0] = 10.;\n",
    "}"
   ]
  },
  {
   "cell_type": "code",
   "execution_count": 43,
   "id": "f532c7f8-194e-4484-a1ca-661d82546b7c",
   "metadata": {},
   "outputs": [
    {
     "name": "stdout",
     "output_type": "stream",
     "text": [
      "[10]\n"
     ]
    }
   ],
   "source": [
    "let mut a: Array<f64, _>= Array::<f64, _>::zeros(1);\n",
    "f2(&mut a);\n",
    "println!(\"{a}\");\n"
   ]
  },
  {
   "cell_type": "code",
   "execution_count": null,
   "id": "fb610930-93c2-4fa0-8d9b-684e026782af",
   "metadata": {},
   "outputs": [],
   "source": []
  }
 ],
 "metadata": {
  "kernelspec": {
   "display_name": "Rust",
   "language": "rust",
   "name": "rust"
  },
  "language_info": {
   "codemirror_mode": "rust",
   "file_extension": ".rs",
   "mimetype": "text/rust",
   "name": "Rust",
   "pygment_lexer": "rust",
   "version": ""
  }
 },
 "nbformat": 4,
 "nbformat_minor": 5
}
